{
 "cells": [
  {
   "cell_type": "markdown",
   "metadata": {},
   "source": [
    "\n",
    "<h1 id=\"Data-wrangling\">Data wrangling<a class=\"anchor-link\" href=\"#Data-wrangling\">¶</a></h1><p>Reformat and match data for antibody (IgG day 28 increase from day 0) and LC-MS pos ESI metabolomics.\n",
    "The input files have more columns and different label formats. We will produce output with consistent lables on a selected time point.</p>\n",
    "<p>Shuzhao Li, 2019-08-24</p>\n"
   ]
  },
  {
   "cell_type": "code",
   "execution_count": null,
   "metadata": {},
   "outputs": [],
   "source": [
    "\n",
    "!ls\n",
    "import pandas as pd\n",
    "import numpy as nm\n",
    "\n"
   ]
  },
  {
   "cell_type": "code",
   "execution_count": null,
   "metadata": {},
   "outputs": [],
   "source": [
    "\n",
    "igg = pd.read_csv('formated_IgG_NLSrenalyzed.txt', sep='\\t')\n",
    "igg.head()\n",
    "\n"
   ]
  },
  {
   "cell_type": "code",
   "execution_count": null,
   "metadata": {},
   "outputs": [],
   "source": [
    "\n",
    "met = pd.read_csv('metabolomics_data_matrix_pos.txt', sep='\\t')\n",
    "print(met.shape)\n",
    "met.head()\n",
    "\n"
   ]
  },
  {
   "cell_type": "markdown",
   "metadata": {},
   "source": [
    "\n",
    "<h2 id=\"Taking-day-0-met-data,-matching-antibody-(IgG)-for-subjects\">Taking day 0 met data, matching antibody (IgG) for subjects<a class=\"anchor-link\" href=\"#Taking-day-0-met-data,-matching-antibody-(IgG)-for-subjects\">¶</a></h2>\n"
   ]
  },
  {
   "cell_type": "code",
   "execution_count": null,
   "metadata": {},
   "outputs": [],
   "source": [
    "\n",
    "subjs = list(igg['subj'])\n",
    "print(len(subjs))\n",
    "print(subjs)\n",
    "\n"
   ]
  },
  {
   "cell_type": "code",
   "execution_count": null,
   "metadata": {},
   "outputs": [],
   "source": [
    "\n",
    "# reformat subj IDs\n",
    "def zvchange(x): return '-'.join([x[:3], x[3:], 'd0'])\n",
    "\n",
    "wanted = [zvchange(x) for x in subjs]\n",
    "\n",
    "print(wanted)\n",
    "\n"
   ]
  },
  {
   "cell_type": "code",
   "execution_count": null,
   "metadata": {},
   "outputs": [],
   "source": [
    "\n",
    "sliced_met = met[['vax05_pos_metabo_feature']+wanted]\n",
    "print(sliced_met.shape)\n",
    "sliced_met.head()\n",
    "\n"
   ]
  },
  {
   "cell_type": "code",
   "execution_count": null,
   "metadata": {},
   "outputs": [],
   "source": [
    "\n",
    "# write out metabo data\n",
    "sliced_met.to_csv('HZ_metabolomics_day0.tsv', sep='\\t', index=False)\n",
    "\n"
   ]
  },
  {
   "cell_type": "code",
   "execution_count": null,
   "metadata": {},
   "outputs": [],
   "source": [
    "\n",
    "# wrangling IgG antibody data. Use only ig30v0 col\n",
    "\n",
    "d = list(igg['ig30v0'])\n",
    "# Make sure wanted list didn't change order from subjs in igg\n",
    "newdf = pd.Series(d, index=wanted)\n",
    "newdf\n",
    "\n"
   ]
  },
  {
   "cell_type": "code",
   "execution_count": null,
   "metadata": {},
   "outputs": [],
   "source": [
    "\n",
    "# write out antibody data, day 30/0 should be 28/0 (data entry error)\n",
    "newdf.to_csv('HZ_antibody_day28v0.tsv', sep='\\t', header=['IgG_D28/0'])\n",
    "\n"
   ]
  }
 ],
 "metadata": {
  "kernelspec": {
   "display_name": "Python 3",
   "language": "python",
   "name": "python3"
  },
  "language_info": {
   "codemirror_mode": {
    "name": "ipython",
    "version": 3
   },
   "file_extension": ".py",
   "mimetype": "text/x-python",
   "name": "python",
   "nbconvert_exporter": "python",
   "pygments_lexer": "ipython3",
   "version": "3.7.6"
  }
 },
 "nbformat": 4,
 "nbformat_minor": 4
}
