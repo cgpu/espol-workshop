{
 "cells": [
  {
   "cell_type": "markdown",
   "metadata": {},
   "source": [
    "# Day 3 schedule\n",
    "\n",
    "Day 3 focus is metabolomics pathway and network analysis.\n"
   ]
  },
  {
   "cell_type": "markdown",
   "metadata": {},
   "source": [
    "## 1. Study case of YFV infection of immune cells\n",
    "\n",
    "To understand the full process of a project."
   ]
  },
  {
   "cell_type": "markdown",
   "metadata": {},
   "source": [
    "## 2. Metabolomics Databases and searches\n",
    "\n",
    "HMDB\n",
    "http://www.hmdb.ca\n",
    "\n",
    "METLIN\n",
    "https://metlin.scripps.edu/\n",
    "\n",
    "MassBank\n",
    "https://massbank.eu\n",
    "\n",
    "MoNA\n",
    "http://mona.fiehnlab.ucdavis.edu\n",
    "\n",
    "mzCloud (focus high-res data)\n",
    "https://www.mzcloud.org/\n",
    "\n",
    "LIPID MAP\n",
    "https://www.lipidmaps.org/\n",
    "\n",
    "Golm (GC-MS, plant emphasis)\n",
    "http://gmd.mpimp-golm.mpg.de/\n",
    "\n",
    "KNApSAcK (plant centric)\n",
    "http://www.knapsackfamily.com/KNApSAcK/"
   ]
  },
  {
   "cell_type": "markdown",
   "metadata": {},
   "source": [
    "*15 minutes break*"
   ]
  },
  {
   "cell_type": "markdown",
   "metadata": {},
   "source": [
    "## 3. Starting hand-on pathway analysis\n",
    "\n",
    "  - Using KEGG and MetaboAnalyst\n",
    "  - Use ForPathwayAnalysis_targeted_significant_list"
   ]
  },
  {
   "cell_type": "markdown",
   "metadata": {},
   "source": [
    "## 4. Pathway and network analysis - general principles\n",
    "\n",
    "*Lunch break*\n",
    "\n",
    "## 4. Pathway and network analysis - mummichog"
   ]
  },
  {
   "cell_type": "markdown",
   "metadata": {},
   "source": [
    "## 5. Continued hand-on session on pathway and network analysis\n",
    "\n",
    "Please use the day3_handon_execuable.ipynb notebook.\n",
    "Try to reproduce the results on the notebook."
   ]
  },
  {
   "cell_type": "markdown",
   "metadata": {},
   "source": [
    "*15 minutes break*"
   ]
  },
  {
   "cell_type": "markdown",
   "metadata": {},
   "source": [
    "## 6. Cytoscape and Metscape\n",
    "\n",
    "Download and install Cytoscape from\n",
    "https://cytoscape.org/ .\n",
    "\n",
    "Install MetScape within Cytoscape -\n",
    "  go to Apps then App Manager, search for MetScape and install as an App to Cytoscape.\n",
    "\n",
    "Click Apps/MetScape \"Build networks\" to use.\n",
    "\n",
    "We will use the same list of metabolites in Part 3 for this as input.\n",
    "\n",
    "http://metscape.ncibi.org/files.html"
   ]
  },
  {
   "cell_type": "markdown",
   "metadata": {},
   "source": [
    "Continued discussion on data visualization and presentation"
   ]
  }
 ],
 "metadata": {
  "jupytext": {
   "cell_metadata_filter": "-all",
   "main_language": "python",
   "notebook_metadata_filter": "-all"
  },
  "kernelspec": {
   "display_name": "Bash",
   "language": "bash",
   "name": "bash"
  },
  "language_info": {
   "codemirror_mode": "shell",
   "file_extension": ".sh",
   "mimetype": "text/x-sh",
   "name": "bash"
  }
 },
 "nbformat": 4,
 "nbformat_minor": 4
}
