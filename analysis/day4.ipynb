{
 "cells": [
  {
   "cell_type": "markdown",
   "metadata": {},
   "source": [
    "# Day 4 schedule\n",
    "\n",
    "Day 4 focus is biomedical applications."
   ]
  },
  {
   "cell_type": "markdown",
   "metadata": {},
   "source": [
    "## 1. Application of metabolomics to precision medicine"
   ]
  },
  {
   "cell_type": "markdown",
   "metadata": {},
   "source": [
    "*15 minutes break*"
   ]
  },
  {
   "cell_type": "markdown",
   "metadata": {},
   "source": [
    "## 2. Metabolite annotation and reporting\n",
    "\n",
    "Important to the execution of research projects and writing scientific manuscripts."
   ]
  },
  {
   "cell_type": "markdown",
   "metadata": {},
   "source": [
    "## 3. Review of statistical analysis\n",
    "\n",
    "- Group comparison\n",
    "  - assuming normal distribution, use parametric tests\n",
    "    - 2 groups, Student t-test\n",
    "    - 2 groups, to include confounders, Logistic regression\n",
    "    - more groups, ANOVA\n",
    "  - not assuming distribution, use nonparametric tests\n",
    "    - Mann Whitney U test\n",
    "  - Shrinkage methods often used in specialized software tools for -omics\n",
    "\n",
    "- Association with continuous variables\n",
    "  - without accounting for confounders, use correlation methods\n",
    "    - Pearson correlation\n",
    "    - Spearman rank correlation\n",
    "  - accounting for confounders, use generalized linear models for regression\n",
    "    - multiple specialized regression methods, e.g. LASSO and Elastic Net, not covered here.\n",
    "\n",
    "- FDR, FDR, FDR"
   ]
  },
  {
   "cell_type": "markdown",
   "metadata": {},
   "source": [
    "*Lunch break*"
   ]
  },
  {
   "cell_type": "markdown",
   "metadata": {},
   "source": [
    "## 4. Hand-on session on MWAS and data presentation\n",
    "\n",
    "We will test the association of antibody response to metabolomic profile in the HZ vaccine study.\n",
    "\n",
    "The data were prepared for this exercise:\n",
    "  * HZ_antibody_day28v0.tsv\n",
    "  * HZ_metabolomics_day0.tsv\n",
    "\n",
    "In real world situations, one needs to wrangle the data to the correct formats. An example is provided as\n",
    "  * day4_extra_reference_data_wrangling.html"
   ]
  },
  {
   "cell_type": "markdown",
   "metadata": {},
   "source": [
    "*15 minutes break*"
   ]
  },
  {
   "cell_type": "markdown",
   "metadata": {},
   "source": [
    "## 5. Participant project discussions\n",
    "\n",
    "Live discussion of research projects from participants.\n",
    "Please bring your own research questions."
   ]
  }
 ],
 "metadata": {
  "jupytext": {
   "cell_metadata_filter": "-all",
   "main_language": "python",
   "notebook_metadata_filter": "-all"
  },
  "kernelspec": {
   "display_name": "Bash",
   "language": "bash",
   "name": "bash"
  },
  "language_info": {
   "codemirror_mode": "shell",
   "file_extension": ".sh",
   "mimetype": "text/x-sh",
   "name": "bash"
  }
 },
 "nbformat": 4,
 "nbformat_minor": 4
}
