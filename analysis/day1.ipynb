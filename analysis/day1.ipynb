{
 "cells": [
  {
   "cell_type": "markdown",
   "metadata": {},
   "source": [
    "# Day 1 schedule\n",
    "\n",
    "Day 1 focus is overview, metabolomics data preprocessing and preparing for data science tools.\n",
    "\n",
    "## 1. Workshop overview, aligning goals and expectations (30 minutes discussion)\n",
    "\n",
    "  - Understanding of experimental design and statistics\n",
    "  - Using Jupyter notebooks for data analysis\n",
    "  - Web tools such as XCMS Online, MetaboAnalyst and Mummichog server\n",
    "  - Metabolite reporting standards\n",
    "  - Discussion of research projects\n",
    "\n",
    "## 2. Overview of metabolomics, current opportunities and challenges (60 minutes)"
   ]
  },
  {
   "cell_type": "markdown",
   "metadata": {},
   "source": [
    "*15 minutes break*\n",
    "\n",
    "**Setting up work groups**\n",
    "\n",
    "## 3. Preparing software - MzMine 2, and sample data\n",
    "\n",
    "[Sample data, human plasma metabolomics, netCDF format in profile mode, 111 MB]\n",
    "http://mummichog.org/shuzhao/public/cdf_std_samples_shuzhao_20140709.zip\n",
    "\n",
    "[MzMine 2]\n",
    "http://mzmine.github.io/download.html"
   ]
  },
  {
   "cell_type": "markdown",
   "metadata": {},
   "source": [
    "## 4. Preparing data science tools - Jupyter notebook\n",
    "\n",
    "https://jupyter.readthedocs.io/en/latest/content-quickstart.html\n",
    "\n",
    "Choose one of two ways to run Jupyter notebooks:\n",
    "\n",
    "1) Using Anaconda, a software distribution for Python/R data science\n",
    "https://www.anaconda.com/distribution/\n",
    "After installing, you can use the Jupyter notebook within.\n",
    "\n",
    "2) Using Docker container.\n",
    "https://docs.docker.com/get-started/\n",
    "Docker is not easiest on MS Windows, but it works. After Docker is working, modify this command line to run a Jupyter notebook with a local work directory:\n",
    "docker run -v /home/shuzhao/project_1_megaID:/home/jovyan/p1 -p 8888:8888 jupyter/scipy-notebook\n",
    "The directory after \"-v\" is my working directory, and you should change to yours. That's where the input data file should be, and you will see the mounted directory \"p1\" via the notebook."
   ]
  },
  {
   "cell_type": "markdown",
   "metadata": {},
   "source": [
    "*Lunch break*\n",
    "\n",
    "## 5. Participant presentation and discussion (30 minutes)"
   ]
  },
  {
   "cell_type": "markdown",
   "metadata": {},
   "source": [
    "## 6. Processing software and the landscape of computational metabolomics (60 minutes)\n",
    "\n",
    "*15 minutes break*\n",
    "\n",
    "## 7. Hand-on session on MzMine 2 and XCMS Online\n",
    "\n",
    "[MzMine 2 Tutorial at UAB website, two lectures in PDF by Prof. Xiuxia Du]\n",
    "https://www.uab.edu/proteomics/metabolomics/workshop/2018/day2/intro_to_data_preprocessing.pdf\n",
    "https://www.uab.edu/proteomics/metabolomics/workshop/2018/day2/Hands-on%20analysis%20with%20MZmine%202.pdf"
   ]
  },
  {
   "cell_type": "markdown",
   "metadata": {},
   "source": [
    "- MZmine 2 for Preprocessing, converting raw data to 3-D data, m/z, retention time, intensity\n",
    "\n",
    "*Using example .cdf files for this workshop*\n",
    "* Converting from profile to centroid mode:\n",
    "             Raw data method -> feature detection -> mass detection (wavelet)\n",
    "\n",
    "* Constructing chromatogram\n",
    "             Raw data method -> feature detection -> ADAP chromatogram builder"
   ]
  },
  {
   "cell_type": "markdown",
   "metadata": {},
   "source": [
    "* Feature list methods -> feature detection -> chromatogram deconvolution\n",
    "\n",
    "* alignment\n",
    " Feature list methods -> Alignment -> RANSAC\n",
    "\n",
    "* export data to text format\n",
    " Feature list methods -> Export/Import -> Export to csv file\n",
    "\n"
   ]
  },
  {
   "cell_type": "markdown",
   "metadata": {},
   "source": [
    "[XCMS Online]\n",
    "https://xcmsonline.scripps.edu/\n",
    "Requiring free registration."
   ]
  }
 ],
 "metadata": {
  "jupytext": {
   "cell_metadata_filter": "-all",
   "main_language": "python",
   "notebook_metadata_filter": "-all"
  },
  "kernelspec": {
   "display_name": "Bash",
   "language": "bash",
   "name": "bash"
  },
  "language_info": {
   "codemirror_mode": "shell",
   "file_extension": ".sh",
   "mimetype": "text/x-sh",
   "name": "bash"
  }
 },
 "nbformat": 4,
 "nbformat_minor": 4
}
