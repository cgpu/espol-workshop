{
 "cells": [
  {
   "cell_type": "markdown",
   "metadata": {},
   "source": [
    "# Day 2 schedule\n",
    "\n",
    "Day 2 focus is data science tools, and basic statistical analyses.\n",
    "\n",
    "## Basics of scripting for data analysis\n",
    "\n",
    "* Learn to use a code editor, not MS Word. A code editor works on plain text and gives you total transparency.\n",
    "* The default text editor on MS Windows is Notepad, on Mac OS is TextEdit. A few free code editors I've used include Atom, VS Code and Geany.\n",
    "* Beginners should avoid IDEs (Integrated Development Environment, e.g. Eclipse)\n",
    "* Rstudio, Matlab, IPython are not exactly programming IDEs, more interactive environment for data analysis.\n",
    "* Command line is empowering. A good tutorial on UNIX Shell is http://swcarpentry.github.io/shell-novice/\n",
    "* Understand absolute and relative paths on computers (Google it)"
   ]
  },
  {
   "cell_type": "markdown",
   "metadata": {},
   "source": [
    "## Schedule\n",
    "\n",
    "## 1. A bioinformatics primer to data science. Using Python and R for data analysis.\n",
    "\n",
    "In-depth tutorials are found at https://software-carpentry.org/lessons/.\n",
    "\n",
    "## 2. Live session of Jupyter Notebook.\n",
    "\n",
    "Basic data analysis and plotting.\n",
    "\n",
    "*15 minutes break*"
   ]
  },
  {
   "cell_type": "markdown",
   "metadata": {},
   "source": [
    "## 3. Statistical analysis\n",
    "\n",
    "Study design. Randomization. Confounders.\n",
    "\n",
    "Using Gardinassi et al as guide.\n",
    "\n",
    "Parametric vs nonparametric\n",
    "\n",
    "t-test, ANOVA, linear regression"
   ]
  },
  {
   "cell_type": "markdown",
   "metadata": {},
   "source": [
    "## 4. Hand-on session, statistical analysis using Jupyter Notebook.\n",
    "\n",
    "Advanced references:\n",
    "\n",
    "https://docs.scipy.org/doc/scipy/reference/stats.html#module-scipy.stats\n",
    "\n",
    "https://www.statsmodels.org/stable/generated/statsmodels.stats.multitest.multipletests.html"
   ]
  },
  {
   "cell_type": "markdown",
   "metadata": {},
   "source": [
    "## 5. Hand-on session, statistical analysis using MetaboAnalyst\n",
    "\n",
    "MetaboAnalyst: https://www.metaboanalyst.ca\n"
   ]
  },
  {
   "cell_type": "markdown",
   "metadata": {},
   "source": [
    "*Lunch break*"
   ]
  },
  {
   "cell_type": "markdown",
   "metadata": {},
   "source": [
    "## 6. Participant presentation and discussion\n"
   ]
  },
  {
   "cell_type": "markdown",
   "metadata": {},
   "source": [
    "## 7. LC-MS metabolomics quality control\n",
    "\n",
    "Using Python and R notebooks from the supplement site."
   ]
  },
  {
   "cell_type": "markdown",
   "metadata": {},
   "source": [
    "*15 minutes break*"
   ]
  },
  {
   "cell_type": "markdown",
   "metadata": {},
   "source": [
    "## 8. Data visualization and presentation\n",
    "\n",
    "Galleries to browse:\n",
    "\n",
    "- Javascript charts\n",
    "\n",
    "https://developers.google.com/chart/interactive/docs/gallery\n",
    "\n",
    "https://github.com/d3/d3/wiki/gallery\n",
    "\n",
    "- R ggplot2\n",
    "\n",
    "https://r4ds.had.co.nz/data-visualisation.html\n",
    "\n",
    "http://www.ggplot2-exts.org/gallery/\n",
    "\n",
    "- Python Matplotlib\n",
    "\n",
    "https://matplotlib.org/gallery.html\n",
    "\n",
    "https://seaborn.pydata.org/examples/index.html\n",
    "\n",
    "- Complex genomics inspired tools\n",
    "\n",
    "http://circos.ca/images/published/\n",
    "\n",
    "http://caleydo.org/tools/"
   ]
  }
 ],
 "metadata": {
  "jupytext": {
   "cell_metadata_filter": "-all",
   "main_language": "python",
   "notebook_metadata_filter": "-all"
  },
  "kernelspec": {
   "display_name": "Bash",
   "language": "bash",
   "name": "bash"
  },
  "language_info": {
   "codemirror_mode": "shell",
   "file_extension": ".sh",
   "mimetype": "text/x-sh",
   "name": "bash"
  }
 },
 "nbformat": 4,
 "nbformat_minor": 4
}
