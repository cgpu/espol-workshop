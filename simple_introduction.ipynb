{
 "cells": [
  {
   "cell_type": "markdown",
   "metadata": {},
   "source": [
    "# Introduction to data science - Python\n",
    "\n",
    "2019-08-27"
   ]
  },
  {
   "cell_type": "code",
   "execution_count": 1,
   "metadata": {},
   "outputs": [],
   "source": [
    "# Import libaries\n",
    "import os\n",
    "import numpy as np\n",
    "import pandas as pd\n",
    "\n",
    "from scipy import stats\n",
    "from statsmodels.sandbox.stats.multicomp import multipletests\n",
    "\n",
    "import seaborn as sns\n",
    "import matplotlib.pyplot as plt\n",
    "%matplotlib inline\n",
    "\n",
    "# Designate input data\n",
    "INDIR = \"data/\"\n",
    "datafile = \"modc_ae_2012.txt\"\n",
    "datafile_ave = \"ave_log2_modc_ae_2012.txt\""
   ]
  },
  {
   "cell_type": "code",
   "execution_count": 2,
   "metadata": {},
   "outputs": [],
   "source": [
    "X = [18.7103, 19.5864, 19.0913, 19.6176, 18.3535, 19.3708, 19.2411, 18.7447, 19.6554, 20.1722, 18.7621, 19.4203, 19.8431, 19.6063, 19.1312, 19.6309, 19.3373, 18.22, 19.167, 19.1908, 19.9454, 19.4662, 19.8465, 19.4658, 18.445, 19.7141, 18.8511, 18.831, 18.3799, 19.7284, 19.8314, 19.4222, 18.7622, 20.4409, 19.1529, 17.7998, 19.0078, 19.2157, 18.947, 19.5418, 19.9454, 19.6346, 18.4007, 19.127, 17.8615, 18.8835, 19.8252, 18.9186, 18.5735, 19.5492, 19.7822, 19.5076, 18.5093, 21.0646, 19.5701, 19.6512, 19.9295, 19.5274, 19.092, 16.7209, 19.1276, 18.1139, 19.4628, 19.7718, 19.301, 18.7855, 19.5914, 19.0588, 19.1228, 19.0519, 18.7518, 19.5578, 19.7133, 18.6093, 19.0295, 19.9849, 19.8133, 19.3702, 18.992, 19.5448, 19.4255, 19.383, 18.99, 20.2839, 18.8182, 19.9559, 19.1918, 19.815, 19.7966, 19.7011, 18.5407, 21.1235, 20.7118, 19.474, 20.2781, 19.8973, 19.5852, 18.7079, 19.0718, 20.1887]"
   ]
  },
  {
   "cell_type": "code",
   "execution_count": 3,
   "metadata": {},
   "outputs": [],
   "source": [
    "Y = [15.1456, 16.6907, 13.7041, 13.3595, 13.4605, 13.7599, 13.2292, 15.0542, 17.5547, 13.0721, 14.4508, 13.5498, 11.0943, 15.7453, 14.5811, 15.0486, 13.5536, 13.0514, 18.9033, 13.4507, 13.0774, 13.472999999999999, 17.6656, 14.4048, 14.0548, 14.1752, 13.9674, 16.0953, 18.213, 17.1742, 14.4052, 14.367, 15.4772, 16.6466, 13.876, 14.418, 12.7861, 12.7505, 14.1374, 17.98, 14.5521, 14.7517, 14.6327, 14.860999999999999, 14.7525, 15.854000000000001, 13.4641, 12.8178, 14.6141, 14.145999999999999, 17.9251, 15.056, 13.9213, 13.8075, 14.7619, 15.6913, 13.7028, 14.7436, 13.8091, 14.578, 13.3033, 13.7391, 16.6819, 16.0013, 14.9508, 14.4106, 15.4443, 16.2574, 15.1084, 15.9944, 14.3142, 14.5851, 15.5699, 13.7463, 16.504, 23.27, 9.9658, 13.9809, 14.5995, 18.9871, 14.217, 14.7288, 13.2944, 20.343, 14.8264, 13.9879, 14.0883, 16.5853, 13.5979, 11.637, 14.5798, 19.0128, 14.4171, 13.0141, 13.5291, 15.849, 18.6107, 14.3473, 14.6311, 14.7727]"
   ]
  },
  {
   "cell_type": "code",
   "execution_count": 4,
   "metadata": {},
   "outputs": [
    {
     "data": {
      "text/plain": [
       "[<matplotlib.lines.Line2D at 0x7fca9099fe80>]"
      ]
     },
     "execution_count": 4,
     "metadata": {},
     "output_type": "execute_result"
    },
    {
     "data": {
      "image/png": "[encoded data removed]",
      "text/plain": [
       "<Figure size 432x288 with 1 Axes>"
      ]
     },
     "metadata": {
      "needs_background": "light"
     },
     "output_type": "display_data"
    }
   ],
   "source": [
    "plt.plot(X,Y, \"o\")"
   ]
  },
  {
   "cell_type": "code",
   "execution_count": null,
   "metadata": {},
   "outputs": [],
   "source": []
  },
  {
   "cell_type": "code",
   "execution_count": 5,
   "metadata": {},
   "outputs": [
    {
     "name": "stdout",
     "output_type": "stream",
     "text": [
      "(7995, 31)\n"
     ]
    },
    {
     "data": {
      "text/html": [
       "<div>\n",
       "<style scoped>\n",
       "    .dataframe tbody tr th:only-of-type {\n",
       "        vertical-align: middle;\n",
       "    }\n",
       "\n",
       "    .dataframe tbody tr th {\n",
       "        vertical-align: top;\n",
       "    }\n",
       "\n",
       "    .dataframe thead th {\n",
       "        text-align: right;\n",
       "    }\n",
       "</style>\n",
       "<table border=\"1\" class=\"dataframe\">\n",
       "  <thead>\n",
       "    <tr style=\"text-align: right;\">\n",
       "      <th></th>\n",
       "      <th>mz</th>\n",
       "      <th>time</th>\n",
       "      <th>mz.min</th>\n",
       "      <th>mz.max</th>\n",
       "      <th>p_0hr_01_1</th>\n",
       "      <th>p_0hr_01_3</th>\n",
       "      <th>p_0hr_01_5</th>\n",
       "      <th>p_0hr_02_1</th>\n",
       "      <th>p_0hr_02_3</th>\n",
       "      <th>p_0hr_02_5</th>\n",
       "      <th>...</th>\n",
       "      <th>mock_6hr_03_5</th>\n",
       "      <th>yf_6hr_01_1</th>\n",
       "      <th>yf_6hr_01_3</th>\n",
       "      <th>yf_6hr_01_5</th>\n",
       "      <th>yf_6hr_02_1</th>\n",
       "      <th>yf_6hr_02_3</th>\n",
       "      <th>yf_6hr_02_5</th>\n",
       "      <th>yf_6hr_03_1</th>\n",
       "      <th>yf_6hr_03_3</th>\n",
       "      <th>yf_6hr_03_5</th>\n",
       "    </tr>\n",
       "  </thead>\n",
       "  <tbody>\n",
       "    <tr>\n",
       "      <th>0</th>\n",
       "      <td>85.02783</td>\n",
       "      <td>59.68820</td>\n",
       "      <td>85.02783</td>\n",
       "      <td>85.02783</td>\n",
       "      <td>15.5810</td>\n",
       "      <td>16.0425</td>\n",
       "      <td>15.3953</td>\n",
       "      <td>15.4143</td>\n",
       "      <td>15.7364</td>\n",
       "      <td>15.5532</td>\n",
       "      <td>...</td>\n",
       "      <td>17.5140</td>\n",
       "      <td>17.1734</td>\n",
       "      <td>16.9813</td>\n",
       "      <td>16.6582</td>\n",
       "      <td>16.8376</td>\n",
       "      <td>16.8148</td>\n",
       "      <td>17.2885</td>\n",
       "      <td>16.5967</td>\n",
       "      <td>16.4734</td>\n",
       "      <td>16.6048</td>\n",
       "    </tr>\n",
       "    <tr>\n",
       "      <th>1</th>\n",
       "      <td>85.04717</td>\n",
       "      <td>124.75120</td>\n",
       "      <td>85.04709</td>\n",
       "      <td>85.04739</td>\n",
       "      <td>14.4754</td>\n",
       "      <td>14.2709</td>\n",
       "      <td>14.3696</td>\n",
       "      <td>14.7142</td>\n",
       "      <td>14.8291</td>\n",
       "      <td>14.9959</td>\n",
       "      <td>...</td>\n",
       "      <td>16.6485</td>\n",
       "      <td>16.6961</td>\n",
       "      <td>16.3596</td>\n",
       "      <td>17.0661</td>\n",
       "      <td>15.2321</td>\n",
       "      <td>15.1615</td>\n",
       "      <td>16.5655</td>\n",
       "      <td>16.4316</td>\n",
       "      <td>16.1668</td>\n",
       "      <td>16.2193</td>\n",
       "    </tr>\n",
       "    <tr>\n",
       "      <th>2</th>\n",
       "      <td>85.06532</td>\n",
       "      <td>68.66651</td>\n",
       "      <td>85.06517</td>\n",
       "      <td>85.06547</td>\n",
       "      <td>14.4223</td>\n",
       "      <td>15.0515</td>\n",
       "      <td>15.1241</td>\n",
       "      <td>13.5224</td>\n",
       "      <td>16.7480</td>\n",
       "      <td>14.4095</td>\n",
       "      <td>...</td>\n",
       "      <td>9.7859</td>\n",
       "      <td>14.0113</td>\n",
       "      <td>15.8681</td>\n",
       "      <td>13.3699</td>\n",
       "      <td>9.9658</td>\n",
       "      <td>15.5703</td>\n",
       "      <td>16.5537</td>\n",
       "      <td>11.9470</td>\n",
       "      <td>10.3181</td>\n",
       "      <td>10.1656</td>\n",
       "    </tr>\n",
       "    <tr>\n",
       "      <th>3</th>\n",
       "      <td>85.10073</td>\n",
       "      <td>16.48022</td>\n",
       "      <td>85.10050</td>\n",
       "      <td>85.10078</td>\n",
       "      <td>14.5249</td>\n",
       "      <td>13.2573</td>\n",
       "      <td>13.5206</td>\n",
       "      <td>12.9044</td>\n",
       "      <td>11.4185</td>\n",
       "      <td>12.9223</td>\n",
       "      <td>...</td>\n",
       "      <td>13.3513</td>\n",
       "      <td>13.2977</td>\n",
       "      <td>13.1140</td>\n",
       "      <td>12.5569</td>\n",
       "      <td>12.9582</td>\n",
       "      <td>12.9960</td>\n",
       "      <td>13.0290</td>\n",
       "      <td>12.4184</td>\n",
       "      <td>13.0218</td>\n",
       "      <td>13.4085</td>\n",
       "    </tr>\n",
       "    <tr>\n",
       "      <th>4</th>\n",
       "      <td>86.05951</td>\n",
       "      <td>67.78485</td>\n",
       "      <td>86.05949</td>\n",
       "      <td>86.05980</td>\n",
       "      <td>10.6674</td>\n",
       "      <td>17.4235</td>\n",
       "      <td>17.4510</td>\n",
       "      <td>17.0197</td>\n",
       "      <td>17.0402</td>\n",
       "      <td>16.9958</td>\n",
       "      <td>...</td>\n",
       "      <td>18.5019</td>\n",
       "      <td>17.7391</td>\n",
       "      <td>17.9262</td>\n",
       "      <td>17.6089</td>\n",
       "      <td>17.5802</td>\n",
       "      <td>17.6529</td>\n",
       "      <td>17.7841</td>\n",
       "      <td>17.3077</td>\n",
       "      <td>10.7589</td>\n",
       "      <td>17.3895</td>\n",
       "    </tr>\n",
       "  </tbody>\n",
       "</table>\n",
       "<p>5 rows × 31 columns</p>\n",
       "</div>"
      ],
      "text/plain": [
       "         mz       time    mz.min    mz.max  p_0hr_01_1  p_0hr_01_3  \\\n",
       "0  85.02783   59.68820  85.02783  85.02783     15.5810     16.0425   \n",
       "1  85.04717  124.75120  85.04709  85.04739     14.4754     14.2709   \n",
       "2  85.06532   68.66651  85.06517  85.06547     14.4223     15.0515   \n",
       "3  85.10073   16.48022  85.10050  85.10078     14.5249     13.2573   \n",
       "4  86.05951   67.78485  86.05949  86.05980     10.6674     17.4235   \n",
       "\n",
       "   p_0hr_01_5  p_0hr_02_1  p_0hr_02_3  p_0hr_02_5  ...  mock_6hr_03_5  \\\n",
       "0     15.3953     15.4143     15.7364     15.5532  ...        17.5140   \n",
       "1     14.3696     14.7142     14.8291     14.9959  ...        16.6485   \n",
       "2     15.1241     13.5224     16.7480     14.4095  ...         9.7859   \n",
       "3     13.5206     12.9044     11.4185     12.9223  ...        13.3513   \n",
       "4     17.4510     17.0197     17.0402     16.9958  ...        18.5019   \n",
       "\n",
       "   yf_6hr_01_1  yf_6hr_01_3  yf_6hr_01_5  yf_6hr_02_1  yf_6hr_02_3  \\\n",
       "0      17.1734      16.9813      16.6582      16.8376      16.8148   \n",
       "1      16.6961      16.3596      17.0661      15.2321      15.1615   \n",
       "2      14.0113      15.8681      13.3699       9.9658      15.5703   \n",
       "3      13.2977      13.1140      12.5569      12.9582      12.9960   \n",
       "4      17.7391      17.9262      17.6089      17.5802      17.6529   \n",
       "\n",
       "   yf_6hr_02_5  yf_6hr_03_1  yf_6hr_03_3  yf_6hr_03_5  \n",
       "0      17.2885      16.5967      16.4734      16.6048  \n",
       "1      16.5655      16.4316      16.1668      16.2193  \n",
       "2      16.5537      11.9470      10.3181      10.1656  \n",
       "3      13.0290      12.4184      13.0218      13.4085  \n",
       "4      17.7841      17.3077      10.7589      17.3895  \n",
       "\n",
       "[5 rows x 31 columns]"
      ]
     },
     "execution_count": 5,
     "metadata": {},
     "output_type": "execute_result"
    }
   ],
   "source": [
    "# Get data and have a look\n",
    "data = pd.read_csv(os.path.join(INDIR + datafile), sep=\"\\t\")\n",
    "print(data.shape)\n",
    "data.head()"
   ]
  },
  {
   "cell_type": "code",
   "execution_count": 6,
   "metadata": {},
   "outputs": [
    {
     "data": {
      "text/plain": [
       "count    7995.000000\n",
       "mean       16.091406\n",
       "std         3.346315\n",
       "min         5.669500\n",
       "25%        13.991700\n",
       "50%        16.262200\n",
       "75%        18.549300\n",
       "max        27.773700\n",
       "Name: p_0hr_01_1, dtype: float64"
      ]
     },
     "execution_count": 6,
     "metadata": {},
     "output_type": "execute_result"
    }
   ],
   "source": [
    "data.iloc[:, 4].describe()"
   ]
  },
  {
   "cell_type": "code",
   "execution_count": 7,
   "metadata": {},
   "outputs": [
    {
     "data": {
      "text/plain": [
       "<matplotlib.axes._subplots.AxesSubplot at 0x7fca909beb00>"
      ]
     },
     "execution_count": 7,
     "metadata": {},
     "output_type": "execute_result"
    },
    {
     "data": {
      "image/png": "[encoded data removed]",
      "text/plain": [
       "<Figure size 432x288 with 1 Axes>"
      ]
     },
     "metadata": {
      "needs_background": "light"
     },
     "output_type": "display_data"
    }
   ],
   "source": [
    "# Distribution of the intensity values in the first sample\n",
    "# this is log2 transformed data\n",
    "data.iloc[:, 4].hist(bins=20)"
   ]
  },
  {
   "cell_type": "code",
   "execution_count": 8,
   "metadata": {},
   "outputs": [
    {
     "data": {
      "text/plain": [
       "count    7.995000e+03\n",
       "mean     6.825831e+05\n",
       "std      4.354430e+06\n",
       "min      5.089669e+01\n",
       "25%      1.629001e+04\n",
       "50%      7.859773e+04\n",
       "75%      3.836151e+05\n",
       "max      2.294652e+08\n",
       "Name: p_0hr_01_1, dtype: float64"
      ]
     },
     "execution_count": 8,
     "metadata": {},
     "output_type": "execute_result"
    }
   ],
   "source": [
    "# check data in linear scale\n",
    "\n",
    "linear_scale_data = 2**(data.iloc[:, 4])\n",
    "linear_scale_data.describe()"
   ]
  },
  {
   "cell_type": "code",
   "execution_count": 9,
   "metadata": {},
   "outputs": [
    {
     "data": {
      "text/plain": [
       "<matplotlib.axes._subplots.AxesSubplot at 0x7fca9066dcf8>"
      ]
     },
     "execution_count": 9,
     "metadata": {},
     "output_type": "execute_result"
    },
    {
     "data": {
      "image/png": "[encoded data removed]",
      "text/plain": [
       "<Figure size 432x288 with 1 Axes>"
      ]
     },
     "metadata": {
      "needs_background": "light"
     },
     "output_type": "display_data"
    }
   ],
   "source": [
    "linear_scale_data.hist(bins=50, range=(1000,100000))"
   ]
  }
 ],
 "metadata": {
  "kernelspec": {
   "display_name": "Python 3",
   "language": "python",
   "name": "python3"
  },
  "language_info": {
   "codemirror_mode": {
    "name": "ipython",
    "version": 3
   },
   "file_extension": ".py",
   "mimetype": "text/x-python",
   "name": "python",
   "nbconvert_exporter": "python",
   "pygments_lexer": "ipython3",
   "version": "3.7.3"
  }
 },
 "nbformat": 4,
 "nbformat_minor": 2
}
